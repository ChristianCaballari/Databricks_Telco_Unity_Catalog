{
 "cells": [
  {
   "cell_type": "markdown",
   "metadata": {
    "application/vnd.databricks.v1+cell": {
     "cellMetadata": {},
     "inputWidgets": {},
     "nuid": "fa500183-51d0-4743-9334-2c78f72a3684",
     "showTitle": false,
     "tableResultSettingsMap": {},
     "title": ""
    }
   },
   "source": [
    "### Crear Managed Table en el Schema Silver\n",
    "\n",
    "1. clientes\n",
    "2. detalles"
   ]
  },
  {
   "cell_type": "code",
   "execution_count": 0,
   "metadata": {
    "application/vnd.databricks.v1+cell": {
     "cellMetadata": {
      "byteLimit": 2048000,
      "rowLimit": 10000
     },
     "inputWidgets": {},
     "nuid": "b45efae9-89df-446d-ba24-b23eba813b47",
     "showTitle": false,
     "tableResultSettingsMap": {},
     "title": ""
    }
   },
   "outputs": [],
   "source": [
    "DROP TABLE IF EXISTS telco_dev.silver.clientes;\n",
    "CREATE TABLE IF NOT EXISTS telco_dev.silver.clientes\n",
    "AS\n",
    "  SELECT clienteId AS cliente_id,\n",
    "         CONCAT(nombre, ' ', paterno, ' ', materno) AS nombre_completo,\n",
    "         documentoIdentidad AS documento_identidad,\n",
    "         telefono,\n",
    "         email,\n",
    "         direccion,\n",
    "         current_timestamp() AS ingestion_date\n",
    "  FROM telco_dev.bronze.clientes;"
   ]
  },
  {
   "cell_type": "code",
   "execution_count": 0,
   "metadata": {
    "application/vnd.databricks.v1+cell": {
     "cellMetadata": {
      "byteLimit": 2048000,
      "rowLimit": 10000
     },
     "collapsed": true,
     "inputWidgets": {},
     "nuid": "02bf8a6a-45a2-4fc4-8b55-3e210b9e8e25",
     "showTitle": false,
     "tableResultSettingsMap": {},
     "title": ""
    }
   },
   "outputs": [],
   "source": [
    "SELECT * FROM telco_dev.silver.clientes;"
   ]
  },
  {
   "cell_type": "code",
   "execution_count": 0,
   "metadata": {
    "application/vnd.databricks.v1+cell": {
     "cellMetadata": {
      "byteLimit": 2048000,
      "rowLimit": 10000
     },
     "inputWidgets": {},
     "nuid": "581c24e6-9f6b-4ff6-bceb-8a0fb1052411",
     "showTitle": false,
     "tableResultSettingsMap": {},
     "title": ""
    }
   },
   "outputs": [],
   "source": [
    "DROP TABLE IF EXISTS telco_dev.silver.detalles;\n",
    "CREATE TABLE IF NOT EXISTS telco_dev.silver.detalles\n",
    "AS\n",
    "  SELECT detalleId AS detalle_id,\n",
    "         clienteId AS cliente_id,\n",
    "         servicio,\n",
    "         plan,\n",
    "         precioMensual AS precio_mensual,\n",
    "         estado,\n",
    "         fechaInicio AS fecha_inicio,\n",
    "         fechaFin AS fecha_fin,\n",
    "         current_timestamp() AS ingestion_date\n",
    "  FROM telco_dev.bronze.detalles;"
   ]
  },
  {
   "cell_type": "code",
   "execution_count": 0,
   "metadata": {
    "application/vnd.databricks.v1+cell": {
     "cellMetadata": {
      "byteLimit": 2048000,
      "rowLimit": 10000
     },
     "collapsed": true,
     "inputWidgets": {},
     "nuid": "ae66eebc-6f8c-4af2-a73b-172ff85ce436",
     "showTitle": false,
     "tableResultSettingsMap": {},
     "title": ""
    }
   },
   "outputs": [],
   "source": [
    "SELECT * FROM telco_dev.silver.detalles;"
   ]
  }
 ],
 "metadata": {
  "application/vnd.databricks.v1+notebook": {
   "computePreferences": null,
   "dashboards": [],
   "environmentMetadata": {
    "base_environment": "",
    "environment_version": "2"
   },
   "inputWidgetPreferences": null,
   "language": "sql",
   "notebookMetadata": {
    "pythonIndentUnit": 4
   },
   "notebookName": "04.create_silver_tables",
   "widgets": {}
  },
  "language_info": {
   "name": "sql"
  }
 },
 "nbformat": 4,
 "nbformat_minor": 0
}
