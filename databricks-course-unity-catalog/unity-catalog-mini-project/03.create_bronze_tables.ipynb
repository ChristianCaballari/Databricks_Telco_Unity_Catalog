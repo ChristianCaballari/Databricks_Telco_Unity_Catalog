{
 "cells": [
  {
   "cell_type": "markdown",
   "metadata": {
    "application/vnd.databricks.v1+cell": {
     "cellMetadata": {},
     "inputWidgets": {},
     "nuid": "fb7a9529-e677-45d4-b9a4-cdd10f63ad71",
     "showTitle": false,
     "tableResultSettingsMap": {},
     "title": ""
    }
   },
   "source": [
    "### Crear Tablas en el Schema Bronze\n",
    "\n",
    "1. Clientes.csv desde \"abfss://bronze@sadatabricksext.dfs.core.windows.net/clientes.csv\"\n",
    "2. detalles.csv desde \"abfss://bronze@sadatabricksext.dfs.core.windows.net/detalles.csv\""
   ]
  },
  {
   "cell_type": "code",
   "execution_count": 0,
   "metadata": {
    "application/vnd.databricks.v1+cell": {
     "cellMetadata": {
      "byteLimit": 2048000,
      "rowLimit": 10000
     },
     "inputWidgets": {},
     "nuid": "b94d888d-9f8c-409d-8ebb-3ca214997339",
     "showTitle": false,
     "tableResultSettingsMap": {},
     "title": ""
    }
   },
   "outputs": [],
   "source": [
    "DROP TABLE IF EXISTS telco_dev.bronze.clientes;\n",
    "CREATE TABLE IF NOT EXISTS telco_dev.bronze.clientes(\n",
    "  clienteId INT,\n",
    "  nombre STRING,\n",
    "  paterno STRING,\n",
    "  materno STRING,\n",
    "  documentoIdentidad STRING,\n",
    "  telefono STRING,\n",
    "  email STRING,\n",
    "  direccion STRING\n",
    ")\n",
    "USING CSV\n",
    "OPTIONS (path \"abfss://bronze@sadatabricksext.dfs.core.windows.net/clientes.csv\", delimiter \";\", header \"true\");"
   ]
  },
  {
   "cell_type": "code",
   "execution_count": 0,
   "metadata": {
    "application/vnd.databricks.v1+cell": {
     "cellMetadata": {
      "byteLimit": 2048000,
      "rowLimit": 10000
     },
     "collapsed": true,
     "inputWidgets": {},
     "nuid": "9b6079ee-0192-4f9c-9336-544754c36b39",
     "showTitle": false,
     "tableResultSettingsMap": {},
     "title": ""
    }
   },
   "outputs": [],
   "source": [
    "SELECT * FROM telco_dev.bronze.clientes;"
   ]
  },
  {
   "cell_type": "code",
   "execution_count": 0,
   "metadata": {
    "application/vnd.databricks.v1+cell": {
     "cellMetadata": {
      "byteLimit": 2048000,
      "rowLimit": 10000
     },
     "inputWidgets": {},
     "nuid": "eb719222-2e8e-40aa-ad95-fe173ec1a9c6",
     "showTitle": false,
     "tableResultSettingsMap": {},
     "title": ""
    }
   },
   "outputs": [],
   "source": [
    "DROP TABLE IF EXISTS telco_dev.bronze.detalles;\n",
    "CREATE TABLE IF NOT EXISTS telco_dev.bronze.detalles(\n",
    "  detalleId INT,\n",
    "  clienteId INT,\n",
    "  servicio STRING,\n",
    "  plan STRING,\n",
    "  precioMensual DECIMAL(5,2),\n",
    "  estado BOOLEAN,\n",
    "  fechaInicio DATE,\n",
    "  fechaFin DATE\n",
    ")\n",
    "USING CSV\n",
    "OPTIONS (path \"abfss://bronze@sadatabricksext.dfs.core.windows.net/detalles.csv\", delimiter \";\", header \"true\");"
   ]
  },
  {
   "cell_type": "code",
   "execution_count": 0,
   "metadata": {
    "application/vnd.databricks.v1+cell": {
     "cellMetadata": {
      "byteLimit": 2048000,
      "rowLimit": 10000
     },
     "collapsed": true,
     "inputWidgets": {},
     "nuid": "7dc6caa9-955c-4cb6-bfc8-d9b3b62e7f38",
     "showTitle": false,
     "tableResultSettingsMap": {},
     "title": ""
    }
   },
   "outputs": [],
   "source": [
    "SELECT * FROM telco_dev.bronze.detalles;"
   ]
  }
 ],
 "metadata": {
  "application/vnd.databricks.v1+notebook": {
   "computePreferences": null,
   "dashboards": [],
   "environmentMetadata": {
    "base_environment": "",
    "environment_version": "2"
   },
   "inputWidgetPreferences": null,
   "language": "sql",
   "notebookMetadata": {},
   "notebookName": "03.create_bronze_tables",
   "widgets": {}
  },
  "language_info": {
   "name": "sql"
  }
 },
 "nbformat": 4,
 "nbformat_minor": 0
}
