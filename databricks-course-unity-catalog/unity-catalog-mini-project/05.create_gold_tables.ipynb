{
 "cells": [
  {
   "cell_type": "markdown",
   "metadata": {
    "application/vnd.databricks.v1+cell": {
     "cellMetadata": {},
     "inputWidgets": {},
     "nuid": "3877daa8-812c-4b8f-9ee3-fbca797a4b29",
     "showTitle": false,
     "tableResultSettingsMap": {},
     "title": ""
    }
   },
   "source": [
    "### Crear Managed Table en el Schema gold\n",
    "\n",
    "- Usar JOIN en las tablas \"clientes\" y \"detalles\" para obtener los \"ingresos por cliente\""
   ]
  },
  {
   "cell_type": "code",
   "execution_count": 0,
   "metadata": {
    "application/vnd.databricks.v1+cell": {
     "cellMetadata": {
      "byteLimit": 2048000,
      "rowLimit": 10000
     },
     "inputWidgets": {},
     "nuid": "4f07ae06-fc77-4b58-bf67-14990d76bda9",
     "showTitle": false,
     "tableResultSettingsMap": {},
     "title": ""
    }
   },
   "outputs": [],
   "source": [
    "DROP TABLE IF EXISTS telco_dev.gold.ingreso_por_cliente;\n",
    "CREATE TABLE IF NOT EXISTS telco_dev.gold.ingreso_por_cliente\n",
    "AS\n",
    "  SELECT C.nombre_completo, SUM(D.precio_mensual) AS ingreso\n",
    "  FROM telco_dev.silver.clientes AS C\n",
    "  INNER JOIN telco_dev.silver.detalles AS D\n",
    "  ON C.cliente_id = D.cliente_id\n",
    "  GROUP BY 1 -- nombre_completo\n",
    "  ORDER BY 2 DESC; -- ingreso"
   ]
  },
  {
   "cell_type": "code",
   "execution_count": 0,
   "metadata": {
    "application/vnd.databricks.v1+cell": {
     "cellMetadata": {
      "byteLimit": 2048000,
      "rowLimit": 10000
     },
     "inputWidgets": {},
     "nuid": "e83fd59c-1543-4ad2-9c8e-07781946720c",
     "showTitle": false,
     "tableResultSettingsMap": {},
     "title": ""
    }
   },
   "outputs": [],
   "source": [
    "SELECT * FROM telco_dev.gold.ingreso_por_cliente;"
   ]
  }
 ],
 "metadata": {
  "application/vnd.databricks.v1+notebook": {
   "computePreferences": null,
   "dashboards": [],
   "environmentMetadata": {
    "base_environment": "",
    "environment_version": "2"
   },
   "inputWidgetPreferences": null,
   "language": "sql",
   "notebookMetadata": {
    "pythonIndentUnit": 4
   },
   "notebookName": "05.create_gold_tables",
   "widgets": {}
  },
  "language_info": {
   "name": "sql"
  }
 },
 "nbformat": 4,
 "nbformat_minor": 0
}
